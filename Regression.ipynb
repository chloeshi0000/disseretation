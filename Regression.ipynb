{
  "nbformat": 4,
  "nbformat_minor": 0,
  "metadata": {
    "colab": {
      "provenance": [],
      "toc_visible": true
    },
    "kernelspec": {
      "name": "python3",
      "display_name": "Python 3"
    },
    "language_info": {
      "name": "python"
    }
  },
  "cells": [
    {
      "cell_type": "code",
      "execution_count": 2,
      "metadata": {
        "colab": {
          "base_uri": "https://localhost:8080/"
        },
        "id": "I65j0jtEGSZy",
        "outputId": "b397c3a0-22f2-49ee-9ac6-081cad96723a"
      },
      "outputs": [
        {
          "output_type": "stream",
          "name": "stdout",
          "text": [
            "Mounted at /content/drive/\n"
          ]
        }
      ],
      "source": [
        "# Mount Google Drive\n",
        "from google.colab import drive\n",
        "import os\n",
        "drive.mount('/content/drive/')\n",
        "os.chdir(\"/content/drive/MyDrive/Colab Notebooks/DisseDATA\")"
      ]
    },
    {
      "cell_type": "code",
      "source": [
        "import pandas as pd\n",
        "import statsmodels.api as sm\n",
        "import numpy as np"
      ],
      "metadata": {
        "id": "AaOGubGTGmja"
      },
      "execution_count": 3,
      "outputs": []
    },
    {
      "cell_type": "code",
      "source": [
        "!pip install linearmodels\n"
      ],
      "metadata": {
        "colab": {
          "base_uri": "https://localhost:8080/"
        },
        "id": "JPdmRVfcLkPm",
        "outputId": "7f201cc3-e595-4eb7-cc61-19443bbe822f"
      },
      "execution_count": 4,
      "outputs": [
        {
          "output_type": "stream",
          "name": "stdout",
          "text": [
            "Collecting linearmodels\n",
            "  Downloading linearmodels-6.0-cp310-cp310-manylinux_2_17_x86_64.manylinux2014_x86_64.whl.metadata (7.9 kB)\n",
            "Requirement already satisfied: numpy<3,>=1.22.3 in /usr/local/lib/python3.10/dist-packages (from linearmodels) (1.26.4)\n",
            "Requirement already satisfied: pandas>=1.4.0 in /usr/local/lib/python3.10/dist-packages (from linearmodels) (2.1.4)\n",
            "Requirement already satisfied: scipy>=1.8.0 in /usr/local/lib/python3.10/dist-packages (from linearmodels) (1.13.1)\n",
            "Requirement already satisfied: statsmodels>=0.13.0 in /usr/local/lib/python3.10/dist-packages (from linearmodels) (0.14.2)\n",
            "Collecting mypy-extensions>=0.4 (from linearmodels)\n",
            "  Downloading mypy_extensions-1.0.0-py3-none-any.whl.metadata (1.1 kB)\n",
            "Requirement already satisfied: Cython>=3.0.10 in /usr/local/lib/python3.10/dist-packages (from linearmodels) (3.0.11)\n",
            "Collecting pyhdfe>=0.1 (from linearmodels)\n",
            "  Downloading pyhdfe-0.2.0-py3-none-any.whl.metadata (4.0 kB)\n",
            "Collecting formulaic>=1.0.0 (from linearmodels)\n",
            "  Downloading formulaic-1.0.2-py3-none-any.whl.metadata (6.8 kB)\n",
            "Collecting setuptools-scm<9.0.0,>=8.0.0 (from setuptools-scm[toml]<9.0.0,>=8.0.0->linearmodels)\n",
            "  Downloading setuptools_scm-8.1.0-py3-none-any.whl.metadata (6.6 kB)\n",
            "Collecting interface-meta>=1.2.0 (from formulaic>=1.0.0->linearmodels)\n",
            "  Downloading interface_meta-1.3.0-py3-none-any.whl.metadata (6.7 kB)\n",
            "Requirement already satisfied: typing-extensions>=4.2.0 in /usr/local/lib/python3.10/dist-packages (from formulaic>=1.0.0->linearmodels) (4.12.2)\n",
            "Requirement already satisfied: wrapt>=1.0 in /usr/local/lib/python3.10/dist-packages (from formulaic>=1.0.0->linearmodels) (1.16.0)\n",
            "Requirement already satisfied: python-dateutil>=2.8.2 in /usr/local/lib/python3.10/dist-packages (from pandas>=1.4.0->linearmodels) (2.8.2)\n",
            "Requirement already satisfied: pytz>=2020.1 in /usr/local/lib/python3.10/dist-packages (from pandas>=1.4.0->linearmodels) (2024.1)\n",
            "Requirement already satisfied: tzdata>=2022.1 in /usr/local/lib/python3.10/dist-packages (from pandas>=1.4.0->linearmodels) (2024.1)\n",
            "Requirement already satisfied: packaging>=20 in /usr/local/lib/python3.10/dist-packages (from setuptools-scm<9.0.0,>=8.0.0->setuptools-scm[toml]<9.0.0,>=8.0.0->linearmodels) (24.1)\n",
            "Requirement already satisfied: setuptools in /usr/local/lib/python3.10/dist-packages (from setuptools-scm<9.0.0,>=8.0.0->setuptools-scm[toml]<9.0.0,>=8.0.0->linearmodels) (71.0.4)\n",
            "Requirement already satisfied: tomli>=1 in /usr/local/lib/python3.10/dist-packages (from setuptools-scm<9.0.0,>=8.0.0->setuptools-scm[toml]<9.0.0,>=8.0.0->linearmodels) (2.0.1)\n",
            "Requirement already satisfied: patsy>=0.5.6 in /usr/local/lib/python3.10/dist-packages (from statsmodels>=0.13.0->linearmodels) (0.5.6)\n",
            "Requirement already satisfied: six in /usr/local/lib/python3.10/dist-packages (from patsy>=0.5.6->statsmodels>=0.13.0->linearmodels) (1.16.0)\n",
            "Downloading linearmodels-6.0-cp310-cp310-manylinux_2_17_x86_64.manylinux2014_x86_64.whl (1.5 MB)\n",
            "\u001b[2K   \u001b[90m━━━━━━━━━━━━━━━━━━━━━━━━━━━━━━━━━━━━━━━━\u001b[0m \u001b[32m1.5/1.5 MB\u001b[0m \u001b[31m5.2 MB/s\u001b[0m eta \u001b[36m0:00:00\u001b[0m\n",
            "\u001b[?25hDownloading formulaic-1.0.2-py3-none-any.whl (94 kB)\n",
            "\u001b[2K   \u001b[90m━━━━━━━━━━━━━━━━━━━━━━━━━━━━━━━━━━━━━━━━\u001b[0m \u001b[32m94.5/94.5 kB\u001b[0m \u001b[31m3.6 MB/s\u001b[0m eta \u001b[36m0:00:00\u001b[0m\n",
            "\u001b[?25hDownloading mypy_extensions-1.0.0-py3-none-any.whl (4.7 kB)\n",
            "Downloading pyhdfe-0.2.0-py3-none-any.whl (19 kB)\n",
            "Downloading setuptools_scm-8.1.0-py3-none-any.whl (43 kB)\n",
            "\u001b[2K   \u001b[90m━━━━━━━━━━━━━━━━━━━━━━━━━━━━━━━━━━━━━━━━\u001b[0m \u001b[32m43.7/43.7 kB\u001b[0m \u001b[31m1.8 MB/s\u001b[0m eta \u001b[36m0:00:00\u001b[0m\n",
            "\u001b[?25hDownloading interface_meta-1.3.0-py3-none-any.whl (14 kB)\n",
            "Installing collected packages: setuptools-scm, mypy-extensions, interface-meta, pyhdfe, formulaic, linearmodels\n",
            "Successfully installed formulaic-1.0.2 interface-meta-1.3.0 linearmodels-6.0 mypy-extensions-1.0.0 pyhdfe-0.2.0 setuptools-scm-8.1.0\n"
          ]
        }
      ]
    },
    {
      "cell_type": "code",
      "source": [
        "\n",
        "df_final = pd.read_excel('FR copy.xlsx')\n",
        "\n",
        "tesla_index = df_final[df_final['Company'] == 'Tesla'].index\n",
        "\n",
        "df_final.loc[tesla_index, 'Net sales'] = df_final.loc[tesla_index, 'Net sales'] / 1000\n",
        "df_final.loc[tesla_index, 'Gross profit'] = df_final.loc[tesla_index, 'Gross profit'] / 1000\n",
        "\n",
        "df_final.sort_values(by=['Company', 'Year', 'Quarter'], inplace=True)\n",
        "\n",
        "df_final['Net sales t-1'] = df_final.groupby('Company')['Net sales'].shift(1)\n",
        "\n",
        "df_final['Total liability'] = df_final['Total assets'] - df_final['Total shareholders\\' equity']\n",
        "\n",
        "# Calculate Debt-to-Equity Ratio\n",
        "df_final['Debt-to-Equity'] = df_final['Total liability'] / df_final['Total shareholders\\' equity']\n",
        "df_final.head(2)"
      ],
      "metadata": {
        "colab": {
          "base_uri": "https://localhost:8080/",
          "height": 301
        },
        "id": "Ea5ZsISmGjds",
        "outputId": "30e67e3f-653c-42c8-d93f-4d154f956c86"
      },
      "execution_count": 5,
      "outputs": [
        {
          "output_type": "stream",
          "name": "stderr",
          "text": [
            "<ipython-input-5-4fee6381cd85>:5: FutureWarning: Setting an item of incompatible dtype is deprecated and will raise in a future error of pandas. Value '[  939.88    954.976   936.789  1214.38   1147.048  1270.017  2298.436\n",
            "  2284.631  2696.27   2789.557  2984.675  3288.249  3408.751  4002.231\n",
            "  6824.413  7225.873  4541.     6350.     6303.     7384.     5985.\n",
            "  6036.     8771.    10744.   ]' has dtype incompatible with int64, please explicitly cast to a compatible dtype first.\n",
            "  df_final.loc[tesla_index, 'Net sales'] = df_final.loc[tesla_index, 'Net sales'] / 1000\n"
          ]
        },
        {
          "output_type": "execute_result",
          "data": {
            "text/plain": [
              "   Company  Year  Quarter  Net sales  Net sales growth rate  Gross profit  \\\n",
              "24  Amazon  2015        1    22717.0                    NaN        7322.0   \n",
              "25  Amazon  2015        2    23185.0               0.020601        8025.0   \n",
              "\n",
              "    Operating income  Net income  Total assets  Total shareholders' equity  \\\n",
              "24             255.0       -57.0       50075.0                     10873.0   \n",
              "25             464.0        92.0       52440.0                     11768.0   \n",
              "\n",
              "    ...  MDA sentiment t-4  average tweet sentiment t-1  \\\n",
              "24  ...                NaN                          NaN   \n",
              "25  ...                NaN                     0.355567   \n",
              "\n",
              "    meidan tweet sentiment t-1  average tweet sentiment t-2  \\\n",
              "24                         NaN                          NaN   \n",
              "25                    0.446747                          NaN   \n",
              "\n",
              "    meidan tweet sentiment t-2  average tweet sentiment t-3  \\\n",
              "24                         NaN                          NaN   \n",
              "25                         NaN                          NaN   \n",
              "\n",
              "    average tweet sentiment t-4  Net sales t-1  Total liability  \\\n",
              "24                          NaN            NaN          39202.0   \n",
              "25                          NaN        22717.0          40672.0   \n",
              "\n",
              "    Debt-to-Equity  \n",
              "24        3.605445  \n",
              "25        3.456152  \n",
              "\n",
              "[2 rows x 25 columns]"
            ],
            "text/html": [
              "\n",
              "  <div id=\"df-b8505563-46f0-412a-a869-55971dfc4b8d\" class=\"colab-df-container\">\n",
              "    <div>\n",
              "<style scoped>\n",
              "    .dataframe tbody tr th:only-of-type {\n",
              "        vertical-align: middle;\n",
              "    }\n",
              "\n",
              "    .dataframe tbody tr th {\n",
              "        vertical-align: top;\n",
              "    }\n",
              "\n",
              "    .dataframe thead th {\n",
              "        text-align: right;\n",
              "    }\n",
              "</style>\n",
              "<table border=\"1\" class=\"dataframe\">\n",
              "  <thead>\n",
              "    <tr style=\"text-align: right;\">\n",
              "      <th></th>\n",
              "      <th>Company</th>\n",
              "      <th>Year</th>\n",
              "      <th>Quarter</th>\n",
              "      <th>Net sales</th>\n",
              "      <th>Net sales growth rate</th>\n",
              "      <th>Gross profit</th>\n",
              "      <th>Operating income</th>\n",
              "      <th>Net income</th>\n",
              "      <th>Total assets</th>\n",
              "      <th>Total shareholders' equity</th>\n",
              "      <th>...</th>\n",
              "      <th>MDA sentiment t-4</th>\n",
              "      <th>average tweet sentiment t-1</th>\n",
              "      <th>meidan tweet sentiment t-1</th>\n",
              "      <th>average tweet sentiment t-2</th>\n",
              "      <th>meidan tweet sentiment t-2</th>\n",
              "      <th>average tweet sentiment t-3</th>\n",
              "      <th>average tweet sentiment t-4</th>\n",
              "      <th>Net sales t-1</th>\n",
              "      <th>Total liability</th>\n",
              "      <th>Debt-to-Equity</th>\n",
              "    </tr>\n",
              "  </thead>\n",
              "  <tbody>\n",
              "    <tr>\n",
              "      <th>24</th>\n",
              "      <td>Amazon</td>\n",
              "      <td>2015</td>\n",
              "      <td>1</td>\n",
              "      <td>22717.0</td>\n",
              "      <td>NaN</td>\n",
              "      <td>7322.0</td>\n",
              "      <td>255.0</td>\n",
              "      <td>-57.0</td>\n",
              "      <td>50075.0</td>\n",
              "      <td>10873.0</td>\n",
              "      <td>...</td>\n",
              "      <td>NaN</td>\n",
              "      <td>NaN</td>\n",
              "      <td>NaN</td>\n",
              "      <td>NaN</td>\n",
              "      <td>NaN</td>\n",
              "      <td>NaN</td>\n",
              "      <td>NaN</td>\n",
              "      <td>NaN</td>\n",
              "      <td>39202.0</td>\n",
              "      <td>3.605445</td>\n",
              "    </tr>\n",
              "    <tr>\n",
              "      <th>25</th>\n",
              "      <td>Amazon</td>\n",
              "      <td>2015</td>\n",
              "      <td>2</td>\n",
              "      <td>23185.0</td>\n",
              "      <td>0.020601</td>\n",
              "      <td>8025.0</td>\n",
              "      <td>464.0</td>\n",
              "      <td>92.0</td>\n",
              "      <td>52440.0</td>\n",
              "      <td>11768.0</td>\n",
              "      <td>...</td>\n",
              "      <td>NaN</td>\n",
              "      <td>0.355567</td>\n",
              "      <td>0.446747</td>\n",
              "      <td>NaN</td>\n",
              "      <td>NaN</td>\n",
              "      <td>NaN</td>\n",
              "      <td>NaN</td>\n",
              "      <td>22717.0</td>\n",
              "      <td>40672.0</td>\n",
              "      <td>3.456152</td>\n",
              "    </tr>\n",
              "  </tbody>\n",
              "</table>\n",
              "<p>2 rows × 25 columns</p>\n",
              "</div>\n",
              "    <div class=\"colab-df-buttons\">\n",
              "\n",
              "  <div class=\"colab-df-container\">\n",
              "    <button class=\"colab-df-convert\" onclick=\"convertToInteractive('df-b8505563-46f0-412a-a869-55971dfc4b8d')\"\n",
              "            title=\"Convert this dataframe to an interactive table.\"\n",
              "            style=\"display:none;\">\n",
              "\n",
              "  <svg xmlns=\"http://www.w3.org/2000/svg\" height=\"24px\" viewBox=\"0 -960 960 960\">\n",
              "    <path d=\"M120-120v-720h720v720H120Zm60-500h600v-160H180v160Zm220 220h160v-160H400v160Zm0 220h160v-160H400v160ZM180-400h160v-160H180v160Zm440 0h160v-160H620v160ZM180-180h160v-160H180v160Zm440 0h160v-160H620v160Z\"/>\n",
              "  </svg>\n",
              "    </button>\n",
              "\n",
              "  <style>\n",
              "    .colab-df-container {\n",
              "      display:flex;\n",
              "      gap: 12px;\n",
              "    }\n",
              "\n",
              "    .colab-df-convert {\n",
              "      background-color: #E8F0FE;\n",
              "      border: none;\n",
              "      border-radius: 50%;\n",
              "      cursor: pointer;\n",
              "      display: none;\n",
              "      fill: #1967D2;\n",
              "      height: 32px;\n",
              "      padding: 0 0 0 0;\n",
              "      width: 32px;\n",
              "    }\n",
              "\n",
              "    .colab-df-convert:hover {\n",
              "      background-color: #E2EBFA;\n",
              "      box-shadow: 0px 1px 2px rgba(60, 64, 67, 0.3), 0px 1px 3px 1px rgba(60, 64, 67, 0.15);\n",
              "      fill: #174EA6;\n",
              "    }\n",
              "\n",
              "    .colab-df-buttons div {\n",
              "      margin-bottom: 4px;\n",
              "    }\n",
              "\n",
              "    [theme=dark] .colab-df-convert {\n",
              "      background-color: #3B4455;\n",
              "      fill: #D2E3FC;\n",
              "    }\n",
              "\n",
              "    [theme=dark] .colab-df-convert:hover {\n",
              "      background-color: #434B5C;\n",
              "      box-shadow: 0px 1px 3px 1px rgba(0, 0, 0, 0.15);\n",
              "      filter: drop-shadow(0px 1px 2px rgba(0, 0, 0, 0.3));\n",
              "      fill: #FFFFFF;\n",
              "    }\n",
              "  </style>\n",
              "\n",
              "    <script>\n",
              "      const buttonEl =\n",
              "        document.querySelector('#df-b8505563-46f0-412a-a869-55971dfc4b8d button.colab-df-convert');\n",
              "      buttonEl.style.display =\n",
              "        google.colab.kernel.accessAllowed ? 'block' : 'none';\n",
              "\n",
              "      async function convertToInteractive(key) {\n",
              "        const element = document.querySelector('#df-b8505563-46f0-412a-a869-55971dfc4b8d');\n",
              "        const dataTable =\n",
              "          await google.colab.kernel.invokeFunction('convertToInteractive',\n",
              "                                                    [key], {});\n",
              "        if (!dataTable) return;\n",
              "\n",
              "        const docLinkHtml = 'Like what you see? Visit the ' +\n",
              "          '<a target=\"_blank\" href=https://colab.research.google.com/notebooks/data_table.ipynb>data table notebook</a>'\n",
              "          + ' to learn more about interactive tables.';\n",
              "        element.innerHTML = '';\n",
              "        dataTable['output_type'] = 'display_data';\n",
              "        await google.colab.output.renderOutput(dataTable, element);\n",
              "        const docLink = document.createElement('div');\n",
              "        docLink.innerHTML = docLinkHtml;\n",
              "        element.appendChild(docLink);\n",
              "      }\n",
              "    </script>\n",
              "  </div>\n",
              "\n",
              "\n",
              "<div id=\"df-7e709ca5-b84a-4187-b963-e197bb8c75ef\">\n",
              "  <button class=\"colab-df-quickchart\" onclick=\"quickchart('df-7e709ca5-b84a-4187-b963-e197bb8c75ef')\"\n",
              "            title=\"Suggest charts\"\n",
              "            style=\"display:none;\">\n",
              "\n",
              "<svg xmlns=\"http://www.w3.org/2000/svg\" height=\"24px\"viewBox=\"0 0 24 24\"\n",
              "     width=\"24px\">\n",
              "    <g>\n",
              "        <path d=\"M19 3H5c-1.1 0-2 .9-2 2v14c0 1.1.9 2 2 2h14c1.1 0 2-.9 2-2V5c0-1.1-.9-2-2-2zM9 17H7v-7h2v7zm4 0h-2V7h2v10zm4 0h-2v-4h2v4z\"/>\n",
              "    </g>\n",
              "</svg>\n",
              "  </button>\n",
              "\n",
              "<style>\n",
              "  .colab-df-quickchart {\n",
              "      --bg-color: #E8F0FE;\n",
              "      --fill-color: #1967D2;\n",
              "      --hover-bg-color: #E2EBFA;\n",
              "      --hover-fill-color: #174EA6;\n",
              "      --disabled-fill-color: #AAA;\n",
              "      --disabled-bg-color: #DDD;\n",
              "  }\n",
              "\n",
              "  [theme=dark] .colab-df-quickchart {\n",
              "      --bg-color: #3B4455;\n",
              "      --fill-color: #D2E3FC;\n",
              "      --hover-bg-color: #434B5C;\n",
              "      --hover-fill-color: #FFFFFF;\n",
              "      --disabled-bg-color: #3B4455;\n",
              "      --disabled-fill-color: #666;\n",
              "  }\n",
              "\n",
              "  .colab-df-quickchart {\n",
              "    background-color: var(--bg-color);\n",
              "    border: none;\n",
              "    border-radius: 50%;\n",
              "    cursor: pointer;\n",
              "    display: none;\n",
              "    fill: var(--fill-color);\n",
              "    height: 32px;\n",
              "    padding: 0;\n",
              "    width: 32px;\n",
              "  }\n",
              "\n",
              "  .colab-df-quickchart:hover {\n",
              "    background-color: var(--hover-bg-color);\n",
              "    box-shadow: 0 1px 2px rgba(60, 64, 67, 0.3), 0 1px 3px 1px rgba(60, 64, 67, 0.15);\n",
              "    fill: var(--button-hover-fill-color);\n",
              "  }\n",
              "\n",
              "  .colab-df-quickchart-complete:disabled,\n",
              "  .colab-df-quickchart-complete:disabled:hover {\n",
              "    background-color: var(--disabled-bg-color);\n",
              "    fill: var(--disabled-fill-color);\n",
              "    box-shadow: none;\n",
              "  }\n",
              "\n",
              "  .colab-df-spinner {\n",
              "    border: 2px solid var(--fill-color);\n",
              "    border-color: transparent;\n",
              "    border-bottom-color: var(--fill-color);\n",
              "    animation:\n",
              "      spin 1s steps(1) infinite;\n",
              "  }\n",
              "\n",
              "  @keyframes spin {\n",
              "    0% {\n",
              "      border-color: transparent;\n",
              "      border-bottom-color: var(--fill-color);\n",
              "      border-left-color: var(--fill-color);\n",
              "    }\n",
              "    20% {\n",
              "      border-color: transparent;\n",
              "      border-left-color: var(--fill-color);\n",
              "      border-top-color: var(--fill-color);\n",
              "    }\n",
              "    30% {\n",
              "      border-color: transparent;\n",
              "      border-left-color: var(--fill-color);\n",
              "      border-top-color: var(--fill-color);\n",
              "      border-right-color: var(--fill-color);\n",
              "    }\n",
              "    40% {\n",
              "      border-color: transparent;\n",
              "      border-right-color: var(--fill-color);\n",
              "      border-top-color: var(--fill-color);\n",
              "    }\n",
              "    60% {\n",
              "      border-color: transparent;\n",
              "      border-right-color: var(--fill-color);\n",
              "    }\n",
              "    80% {\n",
              "      border-color: transparent;\n",
              "      border-right-color: var(--fill-color);\n",
              "      border-bottom-color: var(--fill-color);\n",
              "    }\n",
              "    90% {\n",
              "      border-color: transparent;\n",
              "      border-bottom-color: var(--fill-color);\n",
              "    }\n",
              "  }\n",
              "</style>\n",
              "\n",
              "  <script>\n",
              "    async function quickchart(key) {\n",
              "      const quickchartButtonEl =\n",
              "        document.querySelector('#' + key + ' button');\n",
              "      quickchartButtonEl.disabled = true;  // To prevent multiple clicks.\n",
              "      quickchartButtonEl.classList.add('colab-df-spinner');\n",
              "      try {\n",
              "        const charts = await google.colab.kernel.invokeFunction(\n",
              "            'suggestCharts', [key], {});\n",
              "      } catch (error) {\n",
              "        console.error('Error during call to suggestCharts:', error);\n",
              "      }\n",
              "      quickchartButtonEl.classList.remove('colab-df-spinner');\n",
              "      quickchartButtonEl.classList.add('colab-df-quickchart-complete');\n",
              "    }\n",
              "    (() => {\n",
              "      let quickchartButtonEl =\n",
              "        document.querySelector('#df-7e709ca5-b84a-4187-b963-e197bb8c75ef button');\n",
              "      quickchartButtonEl.style.display =\n",
              "        google.colab.kernel.accessAllowed ? 'block' : 'none';\n",
              "    })();\n",
              "  </script>\n",
              "</div>\n",
              "\n",
              "    </div>\n",
              "  </div>\n"
            ],
            "application/vnd.google.colaboratory.intrinsic+json": {
              "type": "dataframe",
              "variable_name": "df_final"
            }
          },
          "metadata": {},
          "execution_count": 5
        }
      ]
    },
    {
      "cell_type": "markdown",
      "source": [
        "# REgression"
      ],
      "metadata": {
        "id": "zARci0lVGcPb"
      }
    },
    {
      "cell_type": "code",
      "source": [
        "df_final_clean = df_final.dropna(subset=['MDA sentiment t-1','average tweet sentiment t-1',\"meidan tweet sentiment t-1\"])\n",
        "\n",
        "print(df_final_clean.isna().sum())\n"
      ],
      "metadata": {
        "colab": {
          "base_uri": "https://localhost:8080/"
        },
        "id": "UlNe1E8HG9s7",
        "outputId": "b249434b-3e0d-4ad6-a06e-f9ea794b7bbd"
      },
      "execution_count": 6,
      "outputs": [
        {
          "output_type": "stream",
          "name": "stdout",
          "text": [
            "Company                         0\n",
            "Year                            0\n",
            "Quarter                         0\n",
            "Net sales                       0\n",
            "Net sales growth rate           0\n",
            "Gross profit                    0\n",
            "Operating income                0\n",
            "Net income                      0\n",
            "Total assets                    0\n",
            "Total shareholders' equity      0\n",
            "ROA                             0\n",
            "ROE                             0\n",
            "MDA sentiment t-1               0\n",
            "MDA sentiment t-2               5\n",
            "MDA sentiment t-3              10\n",
            "MDA sentiment t-4              15\n",
            "average tweet sentiment t-1     0\n",
            "meidan tweet sentiment t-1      0\n",
            "average tweet sentiment t-2     5\n",
            "meidan tweet sentiment t-2      5\n",
            "average tweet sentiment t-3    10\n",
            "average tweet sentiment t-4    15\n",
            "Net sales t-1                   0\n",
            "Total liability                 0\n",
            "Debt-to-Equity                  0\n",
            "dtype: int64\n"
          ]
        }
      ]
    },
    {
      "cell_type": "markdown",
      "source": [
        "# t-1"
      ],
      "metadata": {
        "id": "FVf1br46QzxJ"
      }
    },
    {
      "cell_type": "code",
      "source": [
        "import pandas as pd\n",
        "import numpy as np\n",
        "import statsmodels.api as sm\n",
        "from linearmodels.panel import RandomEffects\n",
        "\n",
        "df_final_clean1 = df_final_clean.set_index(['Company', 'Year'])\n",
        "\n",
        "df_final_clean1['Scaled Total assets'] = df_final_clean1['Total assets'] / 10000\n",
        "df_final_clean1['Net sales'] = df_final_clean1['Net sales'] / 10000\n",
        "df_final_clean1['Scaled Total liability'] = df_final_clean1['Total liability'] / 10000\n",
        "df_final_clean1['Scaled Net sales t-1'] = df_final_clean1['Net sales t-1'] / 10000\n",
        "df_final_clean1['ln_Total_assets'] = np.log(df_final_clean1['Total assets'])\n",
        "df_final_clean1['ln_Net sales'] = np.log(df_final_clean1['Net sales'])\n",
        "\n",
        "\n",
        "df_final_clean1['interaction'] = df_final_clean1['MDA sentiment t-1'] * df_final_clean1['average tweet sentiment t-1']\n",
        "\n",
        "\n",
        "X = df_final_clean1[['average tweet sentiment t-1', 'ln_Total_assets', 'MDA sentiment t-1', 'Debt-to-Equity', 'Net sales t-1', 'interaction']]\n",
        "X = sm.add_constant(X)  # Add constant term to the model\n",
        "y = df_final_clean1['Net sales']\n",
        "\n",
        "\n",
        "model = RandomEffects(y, X)\n",
        "re_results = model.fit()\n",
        "\n",
        "\n",
        "print(re_results.summary)\n"
      ],
      "metadata": {
        "colab": {
          "base_uri": "https://localhost:8080/"
        },
        "id": "GQVnKLxlA1mI",
        "outputId": "e5cf0d76-fb36-4d4d-b9ba-81ba8afacf5e"
      },
      "execution_count": 9,
      "outputs": [
        {
          "output_type": "stream",
          "name": "stdout",
          "text": [
            "                        RandomEffects Estimation Summary                        \n",
            "================================================================================\n",
            "Dep. Variable:              Net sales   R-squared:                        0.8209\n",
            "Estimator:              RandomEffects   R-squared (Between):              0.9913\n",
            "No. Observations:                 100   R-squared (Within):               0.2938\n",
            "Date:                Wed, Sep 04 2024   R-squared (Overall):              0.8209\n",
            "Time:                        14:23:52   Log-likelihood                   -138.06\n",
            "Cov. Estimator:            Unadjusted                                           \n",
            "                                        F-statistic:                      71.054\n",
            "Entities:                           5   P-value                           0.0000\n",
            "Avg Obs:                       20.000   Distribution:                    F(6,93)\n",
            "Min Obs:                       20.000                                           \n",
            "Max Obs:                       20.000   F-statistic (robust):             71.054\n",
            "                                        P-value                           0.0000\n",
            "Time periods:                       6   Distribution:                    F(6,93)\n",
            "Avg Obs:                       16.667                                           \n",
            "Min Obs:                       5.0000                                           \n",
            "Max Obs:                       20.000                                           \n",
            "                                                                                \n",
            "                                      Parameter Estimates                                      \n",
            "===============================================================================================\n",
            "                             Parameter  Std. Err.     T-stat    P-value    Lower CI    Upper CI\n",
            "-----------------------------------------------------------------------------------------------\n",
            "const                           4.3246     1.7863     2.4210     0.0174      0.7774      7.8719\n",
            "average tweet sentiment t-1    -5.3243     4.4386    -1.1995     0.2334     -14.139      3.4899\n",
            "ln_Total_assets                -0.1209     0.0841    -1.4370     0.1541     -0.2880      0.0462\n",
            "MDA sentiment t-1              -2.6494     4.6653    -0.5679     0.5715     -11.914      6.6149\n",
            "Debt-to-Equity                  0.0117     0.0792     0.1472     0.8833     -0.1456      0.1690\n",
            "Net sales t-1                7.985e-05  6.285e-06     12.705     0.0000   6.737e-05   9.233e-05\n",
            "interaction                     7.8568     13.000     0.6044     0.5471     -17.958      33.671\n",
            "===============================================================================================\n"
          ]
        }
      ]
    },
    {
      "cell_type": "code",
      "source": [
        "import numpy as np\n",
        "import scipy.stats\n",
        "from linearmodels.panel import PanelOLS, RandomEffects\n",
        "\n",
        "fe_model = PanelOLS(y, X, entity_effects=True).fit(cov_type='clustered', cluster_entity=True)\n",
        "re_model = RandomEffects(y, X).fit()\n",
        "\n",
        "b = fe_model.params\n",
        "B = re_model.params\n",
        "v_b = fe_model.cov\n",
        "v_B = re_model.cov\n",
        "\n",
        "diff = b - B\n",
        "var_diff = v_b - v_B\n",
        "\n",
        "chi2 = diff.T @ np.linalg.inv(var_diff) @ diff\n",
        "p_value = 1 - scipy.stats.chi2.cdf(chi2, len(b))\n",
        "\n",
        "print(f\"Chi-squared: {chi2}\")\n",
        "print(f\"P-value: {p_value}\")\n",
        "\n"
      ],
      "metadata": {
        "colab": {
          "base_uri": "https://localhost:8080/"
        },
        "id": "mpzuhJ29Bt_b",
        "outputId": "971cbce9-ba22-4d74-c7a1-51646469eaca"
      },
      "execution_count": 17,
      "outputs": [
        {
          "output_type": "stream",
          "name": "stdout",
          "text": [
            "Chi-squared: -5.2767434185444735\n",
            "P-value: 1.0\n"
          ]
        }
      ]
    },
    {
      "cell_type": "markdown",
      "source": [
        "# OLS"
      ],
      "metadata": {
        "id": "AYxDALgMLqJz"
      }
    },
    {
      "cell_type": "code",
      "source": [
        "import pandas as pd\n",
        "\n",
        "\n",
        "\n",
        "import statsmodels.api as sm\n",
        "df_final_clean['Scaled Total assets'] = df_final['Total assets'] / 10000\n",
        "df_final_clean['Scaled  Net sales'] = df_final_clean['Net sales'] / 10000\n",
        "df_final_clean['Scaled Total liability'] = df_final['Total liability'] / 10000\n",
        "df_final_clean['Scaled Net sales t-1'] = df_final['Net sales t-1'] / 10000\n",
        "df_final_clean['ln_Total_assets'] = np.log(df_final_clean['Total assets'])\n",
        "df_final_clean['ln_Net sales'] = np.log(df_final['Net sales'])\n",
        "\n",
        "df_final_clean['interaction'] = df_final_clean['MDA sentiment t-1'] * df_final_clean['average tweet sentiment t-1']\n",
        "\n",
        "X = sm.add_constant(df_final_clean[['ln_Total_assets','interaction','Debt-to-Equity']])\n",
        "y = df_final_clean[\"Scaled  Net sales\"]\n",
        "model = sm.OLS(y, X).fit()\n",
        "\n",
        "print(model.summary())\n"
      ],
      "metadata": {
        "colab": {
          "base_uri": "https://localhost:8080/"
        },
        "id": "2UT57i3LHL8J",
        "outputId": "8d7a8dca-f0a1-43e0-c220-d211c5e9642f"
      },
      "execution_count": 138,
      "outputs": [
        {
          "output_type": "stream",
          "name": "stdout",
          "text": [
            "                            OLS Regression Results                            \n",
            "==============================================================================\n",
            "Dep. Variable:      Scaled  Net sales   R-squared:                       0.362\n",
            "Model:                            OLS   Adj. R-squared:                  0.342\n",
            "Method:                 Least Squares   F-statistic:                     18.16\n",
            "Date:                Sun, 25 Aug 2024   Prob (F-statistic):           2.06e-09\n",
            "Time:                        11:55:25   Log-Likelihood:                -201.59\n",
            "No. Observations:                 100   AIC:                             411.2\n",
            "Df Residuals:                      96   BIC:                             421.6\n",
            "Df Model:                           3                                         \n",
            "Covariance Type:            nonrobust                                         \n",
            "===================================================================================\n",
            "                      coef    std err          t      P>|t|      [0.025      0.975]\n",
            "-----------------------------------------------------------------------------------\n",
            "const              13.1136      1.529      8.578      0.000      10.079      16.148\n",
            "ln_Total_assets    -0.7291      0.130     -5.599      0.000      -0.988      -0.471\n",
            "interaction         6.3868      2.930      2.180      0.032       0.570      12.203\n",
            "Debt-to-Equity      0.0362      0.144      0.252      0.801      -0.249       0.321\n",
            "==============================================================================\n",
            "Omnibus:                       19.393   Durbin-Watson:                   0.454\n",
            "Prob(Omnibus):                  0.000   Jarque-Bera (JB):               23.384\n",
            "Skew:                           1.114   Prob(JB):                     8.36e-06\n",
            "Kurtosis:                       3.804   Cond. No.                         215.\n",
            "==============================================================================\n",
            "\n",
            "Notes:\n",
            "[1] Standard Errors assume that the covariance matrix of the errors is correctly specified.\n"
          ]
        }
      ]
    },
    {
      "cell_type": "code",
      "source": [
        "import pandas as pd\n",
        "\n",
        "\n",
        "\n",
        "import statsmodels.api as sm\n",
        "df_final_clean['Scaled Total assets'] = df_final['Total assets'] / 10000\n",
        "df_final_clean['Scaled  Net sales'] = df_final_clean['Net sales'] / 10000\n",
        "df_final_clean['Scaled Total liability'] = df_final['Total liability'] / 10000\n",
        "df_final_clean['Scaled Net sales t-1'] = df_final['Net sales t-1'] / 10000\n",
        "df_final_clean['ln_Total_assets'] = np.log(df_final_clean['Total assets'])\n",
        "df_final_clean['ln_Net sales'] = np.log(df_final['Net sales'])\n",
        "\n",
        "df_final_clean['interaction'] = df_final_clean['MDA sentiment t-1'] * df_final_clean['average tweet sentiment t-1']\n",
        "\n",
        "X = sm.add_constant(df_final_clean[['average tweet sentiment t-1', 'ln_Total_assets','MDA sentiment t-1','Debt-to-Equity','Net sales t-1']])\n",
        "y = df_final_clean[\"Scaled  Net sales\"]\n",
        "model = sm.OLS(y, X).fit()\n",
        "\n",
        "print(model.summary())\n"
      ],
      "metadata": {
        "colab": {
          "base_uri": "https://localhost:8080/"
        },
        "id": "_lQy2jBd5rwJ",
        "outputId": "85e072a0-db71-40d3-f7b2-bd8f293c5c59"
      },
      "execution_count": 54,
      "outputs": [
        {
          "output_type": "stream",
          "name": "stdout",
          "text": [
            "                            OLS Regression Results                            \n",
            "==============================================================================\n",
            "Dep. Variable:      Scaled  Net sales   R-squared:                       0.820\n",
            "Model:                            OLS   Adj. R-squared:                  0.811\n",
            "Method:                 Least Squares   F-statistic:                     85.77\n",
            "Date:                Sun, 25 Aug 2024   Prob (F-statistic):           1.77e-33\n",
            "Time:                        11:04:32   Log-Likelihood:                -138.26\n",
            "No. Observations:                 100   AIC:                             288.5\n",
            "Df Residuals:                      94   BIC:                             304.1\n",
            "Df Model:                           5                                         \n",
            "Covariance Type:            nonrobust                                         \n",
            "===============================================================================================\n",
            "                                  coef    std err          t      P>|t|      [0.025      0.975]\n",
            "-----------------------------------------------------------------------------------------------\n",
            "const                           4.6161      1.714      2.693      0.008       1.213       8.020\n",
            "average tweet sentiment t-1    -6.4776      3.994     -1.622      0.108     -14.408       1.453\n",
            "ln_Total_assets                -0.1102      0.082     -1.344      0.182      -0.273       0.053\n",
            "MDA sentiment t-1               0.1480      0.583      0.254      0.800      -1.010       1.306\n",
            "Debt-to-Equity                  0.0071      0.079      0.091      0.928      -0.149       0.163\n",
            "Net sales t-1                7.963e-05   6.25e-06     12.734      0.000    6.72e-05     9.2e-05\n",
            "==============================================================================\n",
            "Omnibus:                       38.258   Durbin-Watson:                   2.343\n",
            "Prob(Omnibus):                  0.000   Jarque-Bera (JB):              101.516\n",
            "Skew:                           1.362   Prob(JB):                     9.04e-23\n",
            "Kurtosis:                       7.116   Cond. No.                     1.71e+06\n",
            "==============================================================================\n",
            "\n",
            "Notes:\n",
            "[1] Standard Errors assume that the covariance matrix of the errors is correctly specified.\n",
            "[2] The condition number is large, 1.71e+06. This might indicate that there are\n",
            "strong multicollinearity or other numerical problems.\n"
          ]
        }
      ]
    },
    {
      "cell_type": "code",
      "source": [
        "import statsmodels.api as sm\n",
        "from statsmodels.stats.outliers_influence import variance_inflation_factor\n",
        "import pandas as pd\n",
        "\n",
        "\n",
        "X = sm.add_constant(df_final_clean[['average tweet sentiment t-1', 'ln_Total_assets','MDA sentiment t-1','Debt-to-Equity']])\n",
        "\n",
        "\n",
        "vif_data = pd.DataFrame()\n",
        "vif_data[\"feature\"] = X.columns\n",
        "\n",
        "\n",
        "vif_data[\"VIF\"] = [variance_inflation_factor(X.values, i) for i in range(X.shape[1])]\n",
        "\n",
        "print(vif_data)\n"
      ],
      "metadata": {
        "colab": {
          "base_uri": "https://localhost:8080/"
        },
        "id": "WUSTbkGz3cvZ",
        "outputId": "fb358e62-c525-485e-d0b8-00ac3ebffc10"
      },
      "execution_count": 55,
      "outputs": [
        {
          "output_type": "stream",
          "name": "stdout",
          "text": [
            "                       feature         VIF\n",
            "0                        const  138.444264\n",
            "1  average tweet sentiment t-1    1.334766\n",
            "2              ln_Total_assets    2.298282\n",
            "3            MDA sentiment t-1    1.039531\n",
            "4               Debt-to-Equity    1.839692\n"
          ]
        }
      ]
    },
    {
      "cell_type": "markdown",
      "source": [
        "## t-2"
      ],
      "metadata": {
        "id": "Aq3Q-ZSyJNkp"
      }
    },
    {
      "cell_type": "code",
      "source": [
        "import pandas as pd\n",
        "import numpy as np\n",
        "import statsmodels.api as sm\n",
        "from linearmodels.panel import RandomEffects\n",
        "\n",
        "\n",
        "df_final_clean2 = df_final_clean.set_index(['Company', 'Year'])\n",
        "\n",
        "df_final_clean2 = df_final_clean2.dropna(subset=['MDA sentiment t-2','average tweet sentiment t-2'])\n",
        "\n",
        "df_final_clean2['Total assets'] = df_final_clean2['Total assets'].replace(0, np.nan)\n",
        "df_final_clean2['Net sales'] = df_final_clean2['Net sales'].replace(0, np.nan)\n",
        "\n",
        "df_final_clean2['ln_Total_assets'] = np.log(df_final_clean2['Total assets'])\n",
        "df_final_clean2['ln_Net sales'] = np.log(df_final_clean2['Net sales'])\n",
        "\n",
        "df_final_clean2['Scaled Total assets'] = df_final_clean2['Total assets'] / 10000\n",
        "df_final_clean2['Net sales'] = df_final_clean2['Net sales'] / 10000\n",
        "df_final_clean2['Scaled Total liability'] = df_final_clean2['Total liability'] / 10000\n",
        "df_final_clean2['Scaled Net sales t-1'] = df_final_clean2['Net sales t-1'] / 10000\n",
        "\n",
        "df_final_clean2['interaction'] = df_final_clean2['MDA sentiment t-2'] * df_final_clean2['average tweet sentiment t-2']\n",
        "X = df_final_clean2[['average tweet sentiment t-2', 'ln_Total_assets', 'MDA sentiment t-2', 'Debt-to-Equity', 'Net sales t-1', 'interaction']]\n",
        "X = sm.add_constant(X)\n",
        "y = df_final_clean2['Net sales']\n",
        "\n",
        "model = RandomEffects(y, X)\n",
        "re_results = model.fit()\n",
        "print(re_results.summary)\n"
      ],
      "metadata": {
        "colab": {
          "base_uri": "https://localhost:8080/"
        },
        "id": "35FfXz7fJPxw",
        "outputId": "ec88faba-20a7-41e5-fb58-1b793fdcdb92"
      },
      "execution_count": 10,
      "outputs": [
        {
          "output_type": "stream",
          "name": "stdout",
          "text": [
            "                        RandomEffects Estimation Summary                        \n",
            "================================================================================\n",
            "Dep. Variable:              Net sales   R-squared:                        0.8198\n",
            "Estimator:              RandomEffects   R-squared (Between):              0.9893\n",
            "No. Observations:                  95   R-squared (Within):               0.2607\n",
            "Date:                Wed, Sep 04 2024   R-squared (Overall):              0.8198\n",
            "Time:                        14:26:46   Log-likelihood                   -132.09\n",
            "Cov. Estimator:            Unadjusted                                           \n",
            "                                        F-statistic:                      66.742\n",
            "Entities:                           5   P-value                           0.0000\n",
            "Avg Obs:                       19.000   Distribution:                    F(6,88)\n",
            "Min Obs:                       19.000                                           \n",
            "Max Obs:                       19.000   F-statistic (robust):             66.742\n",
            "                                        P-value                           0.0000\n",
            "Time periods:                       6   Distribution:                    F(6,88)\n",
            "Avg Obs:                       15.833                                           \n",
            "Min Obs:                       5.0000                                           \n",
            "Max Obs:                       20.000                                           \n",
            "                                                                                \n",
            "                                      Parameter Estimates                                      \n",
            "===============================================================================================\n",
            "                             Parameter  Std. Err.     T-stat    P-value    Lower CI    Upper CI\n",
            "-----------------------------------------------------------------------------------------------\n",
            "const                           5.2100     1.8322     2.8436     0.0055      1.5689      8.8511\n",
            "average tweet sentiment t-2    -7.6490     4.5470    -1.6822     0.0961     -16.685      1.3872\n",
            "ln_Total_assets                -0.1153     0.0904    -1.2763     0.2052     -0.2949      0.0642\n",
            "MDA sentiment t-2              -2.6820     4.7499    -0.5646     0.5738     -12.121      6.7574\n",
            "Debt-to-Equity                  0.0033     0.0886     0.0373     0.9703     -0.1728      0.1794\n",
            "Net sales t-1                7.767e-05  6.493e-06     11.962     0.0000   6.477e-05   9.058e-05\n",
            "interaction                     7.1155     13.211     0.5386     0.5915     -19.138      33.370\n",
            "===============================================================================================\n"
          ]
        }
      ]
    },
    {
      "cell_type": "markdown",
      "source": [
        "# t-3"
      ],
      "metadata": {
        "id": "SMOBAaaZIJSx"
      }
    },
    {
      "cell_type": "code",
      "source": [
        "import pandas as pd\n",
        "import numpy as np\n",
        "import statsmodels.api as sm\n",
        "from linearmodels.panel import RandomEffects\n",
        "\n",
        "\n",
        "df_final_clean3 = df_final_clean.set_index(['Company', 'Year'])\n",
        "df_final_clean3 = df_final_clean3.dropna(subset=['MDA sentiment t-3', 'average tweet sentiment t-3'])\n",
        "\n",
        "\n",
        "df_final_clean3['Total assets'] = df_final_clean3['Total assets'].replace(0, np.nan)\n",
        "df_final_clean3['Net sales'] = df_final_clean3['Net sales'].replace(0, np.nan)\n",
        "\n",
        "df_final_clean3['ln_Total_assets'] = np.log(df_final_clean3['Total assets'])\n",
        "df_final_clean3['ln_Net sales'] = np.log(df_final_clean3['Net sales'])\n",
        "\n",
        "df_final_clean3['Scaled Total assets'] = df_final_clean3['Total assets'] / 10000\n",
        "df_final_clean3['Net sales'] = df_final_clean3['Net sales'] / 10000\n",
        "df_final_clean3['Scaled Total liability'] = df_final_clean3['Total liability'] / 10000\n",
        "df_final_clean3['Scaled Net sales t-1'] = df_final_clean3['Net sales t-1'] / 10000\n",
        "\n",
        "\n",
        "df_final_clean3['interaction'] = df_final_clean3['MDA sentiment t-3'] * df_final_clean3['average tweet sentiment t-3']\n",
        "\n",
        "X = df_final_clean3[['average tweet sentiment t-3', 'ln_Total_assets', 'MDA sentiment t-3', 'Debt-to-Equity', 'Net sales t-1', 'interaction']]\n",
        "X = sm.add_constant(X)\n",
        "y = df_final_clean3['Net sales']\n",
        "\n",
        "\n",
        "model = RandomEffects(y, X)\n",
        "re_results = model.fit()\n",
        "\n",
        "print(re_results.summary)"
      ],
      "metadata": {
        "colab": {
          "base_uri": "https://localhost:8080/"
        },
        "id": "1KL5NklEMq8c",
        "outputId": "7274e61e-f76c-496c-d32d-c43f309e9fd5"
      },
      "execution_count": 11,
      "outputs": [
        {
          "output_type": "stream",
          "name": "stdout",
          "text": [
            "                        RandomEffects Estimation Summary                        \n",
            "================================================================================\n",
            "Dep. Variable:              Net sales   R-squared:                        0.8307\n",
            "Estimator:              RandomEffects   R-squared (Between):              0.9882\n",
            "No. Observations:                  90   R-squared (Within):               0.2774\n",
            "Date:                Wed, Sep 04 2024   R-squared (Overall):              0.8307\n",
            "Time:                        14:27:56   Log-likelihood                   -122.92\n",
            "Cov. Estimator:            Unadjusted                                           \n",
            "                                        F-statistic:                      67.862\n",
            "Entities:                           5   P-value                           0.0000\n",
            "Avg Obs:                       18.000   Distribution:                    F(6,83)\n",
            "Min Obs:                       18.000                                           \n",
            "Max Obs:                       18.000   F-statistic (robust):             67.862\n",
            "                                        P-value                           0.0000\n",
            "Time periods:                       6   Distribution:                    F(6,83)\n",
            "Avg Obs:                       15.000                                           \n",
            "Min Obs:                       5.0000                                           \n",
            "Max Obs:                       20.000                                           \n",
            "                                                                                \n",
            "                                      Parameter Estimates                                      \n",
            "===============================================================================================\n",
            "                             Parameter  Std. Err.     T-stat    P-value    Lower CI    Upper CI\n",
            "-----------------------------------------------------------------------------------------------\n",
            "const                           6.3749     1.9017     3.3523     0.0012      2.5925      10.157\n",
            "average tweet sentiment t-3    -9.8171     4.6664    -2.1038     0.0384     -19.098     -0.5357\n",
            "ln_Total_assets                -0.1347     0.0915    -1.4718     0.1449     -0.3168      0.0473\n",
            "MDA sentiment t-3               11.710     4.6800     2.5022     0.0143      2.4021      21.019\n",
            "Debt-to-Equity                  0.0116     0.0911     0.1272     0.8991     -0.1696      0.1928\n",
            "Net sales t-1                7.678e-05   6.71e-06     11.443     0.0000   6.343e-05   9.013e-05\n",
            "interaction                    -29.039     13.051    -2.2251     0.0288     -54.996     -3.0817\n",
            "===============================================================================================\n"
          ]
        }
      ]
    },
    {
      "cell_type": "code",
      "source": [
        "import pandas as pd\n",
        "import numpy as np\n",
        "from linearmodels.panel import RandomEffects\n",
        "\n",
        "X = df_final_clean3[['average tweet sentiment t-3', 'ln_Total_assets', 'MDA sentiment t-3', 'Debt-to-Equity', 'Net sales t-1', 'interaction']]\n",
        "y = df_final_clean3['Scaled Net sales']\n",
        "\n",
        "\n",
        "X = sm.add_constant(X)\n",
        "\n",
        "\n",
        "model = RandomEffects(y, X)\n",
        "re_results = model.fit(cov_type='robust')\n",
        "\n",
        "\n",
        "print(re_results.summary)\n"
      ],
      "metadata": {
        "colab": {
          "base_uri": "https://localhost:8080/"
        },
        "id": "qrpsUGGjgeRf",
        "outputId": "0387de6f-fc23-4352-9b36-8cc73bd03b9b"
      },
      "execution_count": 13,
      "outputs": [
        {
          "output_type": "stream",
          "name": "stdout",
          "text": [
            "                        RandomEffects Estimation Summary                        \n",
            "================================================================================\n",
            "Dep. Variable:       Scaled Net sales   R-squared:                        0.8307\n",
            "Estimator:              RandomEffects   R-squared (Between):              0.9882\n",
            "No. Observations:                  90   R-squared (Within):               0.2774\n",
            "Date:                Mon, Sep 02 2024   R-squared (Overall):              0.8307\n",
            "Time:                        11:33:29   Log-likelihood                   -122.92\n",
            "Cov. Estimator:                Robust                                           \n",
            "                                        F-statistic:                      67.862\n",
            "Entities:                           5   P-value                           0.0000\n",
            "Avg Obs:                       18.000   Distribution:                    F(6,83)\n",
            "Min Obs:                       18.000                                           \n",
            "Max Obs:                       18.000   F-statistic (robust):             189.87\n",
            "                                        P-value                           0.0000\n",
            "Time periods:                       6   Distribution:                    F(6,83)\n",
            "Avg Obs:                       15.000                                           \n",
            "Min Obs:                       5.0000                                           \n",
            "Max Obs:                       20.000                                           \n",
            "                                                                                \n",
            "                                      Parameter Estimates                                      \n",
            "===============================================================================================\n",
            "                             Parameter  Std. Err.     T-stat    P-value    Lower CI    Upper CI\n",
            "-----------------------------------------------------------------------------------------------\n",
            "const                           6.3749     2.3784     2.6803     0.0089      1.6442      11.105\n",
            "average tweet sentiment t-3    -9.8171     5.9077    -1.6618     0.1003     -21.567      1.9330\n",
            "ln_Total_assets                -0.1347     0.0772    -1.7446     0.0848     -0.2883      0.0189\n",
            "MDA sentiment t-3               11.710     5.4507     2.1484     0.0346      0.8693      22.552\n",
            "Debt-to-Equity                  0.0116     0.0634     0.1828     0.8554     -0.1145      0.1377\n",
            "Net sales t-1                7.678e-05  9.862e-06     7.7853     0.0000   5.716e-05    9.64e-05\n",
            "interaction                    -29.039     15.317    -1.8958     0.0615     -59.505      1.4266\n",
            "===============================================================================================\n"
          ]
        }
      ]
    },
    {
      "cell_type": "code",
      "source": [
        "from statsmodels.stats.diagnostic import het_breuschpagan\n",
        "residuals = re_results.resids\n",
        "\n",
        "X_design = re_results.model.exog.dataframe.values\n",
        "\n",
        "\n",
        "bp_test = het_breuschpagan(residuals, X_design)\n",
        "labels = ['Lagrange Multiplier Statistic', 'p-value', 'f-value', 'f p-value']\n",
        "print(dict(zip(labels, bp_test)))"
      ],
      "metadata": {
        "colab": {
          "base_uri": "https://localhost:8080/"
        },
        "id": "uRGFK3xUUUow",
        "outputId": "e6eea370-fc1f-449c-f6d7-c6729c065973"
      },
      "execution_count": 15,
      "outputs": [
        {
          "output_type": "stream",
          "name": "stdout",
          "text": [
            "{'Lagrange Multiplier Statistic': 16.69809451459592, 'p-value': 0.010459240047486997, 'f-value': 3.151218319937196, 'f p-value': 0.007814699396325755}\n"
          ]
        }
      ]
    },
    {
      "cell_type": "code",
      "source": [
        "from statsmodels.stats.stattools import durbin_watson\n",
        "dw = durbin_watson(residuals)\n",
        "print(f'Durbin-Watson statistic: {dw}')\n"
      ],
      "metadata": {
        "colab": {
          "base_uri": "https://localhost:8080/"
        },
        "id": "EyjXDnHHCmeW",
        "outputId": "89b59aeb-e95d-4c2e-f444-e03f99463e40"
      },
      "execution_count": 24,
      "outputs": [
        {
          "output_type": "stream",
          "name": "stdout",
          "text": [
            "Durbin-Watson statistic: 2.2280999916635498\n"
          ]
        }
      ]
    },
    {
      "cell_type": "code",
      "source": [
        "from scipy.stats import jarque_bera\n",
        "jb_test = jarque_bera(residuals)\n",
        "print(f'Jarque-Bera statistic: {jb_test[0]}, p-value: {jb_test[1]}')\n"
      ],
      "metadata": {
        "colab": {
          "base_uri": "https://localhost:8080/"
        },
        "id": "qMfXwarUCwVT",
        "outputId": "1235ba6f-7be2-4bf5-f034-d0ad411b307f"
      },
      "execution_count": 25,
      "outputs": [
        {
          "output_type": "stream",
          "name": "stdout",
          "text": [
            "Jarque-Bera statistic: 135.5888385124012, p-value: 3.607927593291336e-30\n"
          ]
        }
      ]
    },
    {
      "cell_type": "code",
      "source": [
        "from statsmodels.stats.diagnostic import het_breuschpagan\n",
        "from statsmodels.regression.linear_model import OLS\n",
        "\n",
        "ols_res = OLS(y, X).fit()\n",
        "\n",
        "\n",
        "bp_test = het_breuschpagan(ols_res.resid, ols_res.model.exog)\n",
        "labels = ['LM Statistic', 'LM-Test p-value', 'F-Statistic', 'F-Test p-value']\n",
        "print(dict(zip(labels, bp_test)))\n"
      ],
      "metadata": {
        "colab": {
          "base_uri": "https://localhost:8080/"
        },
        "id": "BfeLXe7TOkN4",
        "outputId": "92d385a8-519a-46c5-ec96-38b9c6d347c1"
      },
      "execution_count": 19,
      "outputs": [
        {
          "output_type": "stream",
          "name": "stdout",
          "text": [
            "{'LM Statistic': 16.698094511676434, 'LM-Test p-value': 0.010459240059525567, 'F-Statistic': 3.1512183192607317, 'F-Test p-value': 0.007814699406849195}\n"
          ]
        }
      ]
    },
    {
      "cell_type": "code",
      "source": [
        "import matplotlib.pyplot as plt\n",
        "plt.scatter(ols_res.fittedvalues, ols_res.resid)\n",
        "plt.axhline(0, color='red', linestyle='--')\n",
        "plt.xlabel('Fitted values')\n",
        "plt.ylabel('Residuals')\n",
        "plt.title('Residual vs. Fitted Plot')\n",
        "plt.show()\n"
      ],
      "metadata": {
        "colab": {
          "base_uri": "https://localhost:8080/",
          "height": 472
        },
        "id": "E1-T830zOyL3",
        "outputId": "8f059642-e83c-458f-8419-a05911a5d5cf"
      },
      "execution_count": 20,
      "outputs": [
        {
          "output_type": "display_data",
          "data": {
            "text/plain": [
              "<Figure size 640x480 with 1 Axes>"
            ],
            "image/png": "[encoded data removed]"
          },
          "metadata": {}
        }
      ]
    },
    {
      "cell_type": "code",
      "source": [
        "from linearmodels.panel import compare\n",
        "from linearmodels.panel import PanelOLS, RandomEffects\n",
        "\n",
        "\n",
        "fe_model = PanelOLS(y, X, entity_effects=True)\n",
        "fe_results = fe_model.fit()\n",
        "\n",
        "\n",
        "re_model = RandomEffects(y, X)\n",
        "re_results = re_model.fit()\n",
        "\n",
        "result = compare({'FE': fe_results, 'RE': re_results})\n",
        "print(result)\n"
      ],
      "metadata": {
        "colab": {
          "base_uri": "https://localhost:8080/"
        },
        "id": "A5blgBqlO2YF",
        "outputId": "a667c929-269f-41e0-cf04-89f9d98ef594"
      },
      "execution_count": 30,
      "outputs": [
        {
          "output_type": "stream",
          "name": "stdout",
          "text": [
            "                             Model Comparison                            \n",
            "=========================================================================\n",
            "                                                  FE                   RE\n",
            "-------------------------------------------------------------------------\n",
            "Dep. Variable                       Scaled Net sales     Scaled Net sales\n",
            "Estimator                                   PanelOLS        RandomEffects\n",
            "No. Observations                                  90                   90\n",
            "Cov. Est.                                 Unadjusted           Unadjusted\n",
            "R-squared                                     0.5130               0.8307\n",
            "R-Squared (Within)                            0.5130               0.2774\n",
            "R-Squared (Between)                          -4.4505               0.9882\n",
            "R-Squared (Overall)                          -3.3506               0.8307\n",
            "F-statistic                                   13.868               67.862\n",
            "P-value (F-stat)                              0.0000               0.0000\n",
            "=============================     ==================   ==================\n",
            "const                                        -17.283               6.3749\n",
            "                                           (-3.2735)             (3.3523)\n",
            "average tweet sentiment t-3                  -9.9915              -9.8171\n",
            "                                           (-2.5215)            (-2.1038)\n",
            "ln_Total_assets                               1.7829              -0.1347\n",
            "                                            (4.5380)            (-1.4718)\n",
            "MDA sentiment t-3                             9.8680               11.710\n",
            "                                            (2.5133)             (2.5022)\n",
            "Debt-to-Equity                                0.1381               0.0116\n",
            "                                            (0.9360)             (0.1272)\n",
            "Net sales t-1                              2.007e-05            7.678e-05\n",
            "                                            (1.9867)             (11.443)\n",
            "interaction                                  -25.954              -29.039\n",
            "                                           (-2.3370)            (-2.2251)\n",
            "=============================== ==================== ====================\n",
            "Effects                                       Entity                     \n",
            "-------------------------------------------------------------------------\n",
            "\n",
            "T-stats reported in parentheses\n"
          ]
        }
      ]
    },
    {
      "cell_type": "code",
      "source": [
        "import numpy as np\n",
        "import scipy.stats\n",
        "from linearmodels.panel import PanelOLS, RandomEffects\n",
        "\n",
        "\n",
        "fe_model = PanelOLS(y, X, entity_effects=True).fit(cov_type='clustered', cluster_entity=True)\n",
        "re_model = RandomEffects(y, X).fit()\n",
        "\n",
        "b = fe_model.params\n",
        "B = re_model.params\n",
        "v_b = fe_model.cov\n",
        "v_B = re_model.cov\n",
        "\n",
        "diff = b - B\n",
        "var_diff = v_b - v_B\n",
        "\n",
        "chi2 = diff.T @ np.linalg.inv(var_diff) @ diff\n",
        "p_value = 1 - scipy.stats.chi2.cdf(chi2, len(b))\n",
        "\n",
        "print(f\"Chi-squared: {chi2}\")\n",
        "print(f\"P-value: {p_value}\")\n",
        "\n"
      ],
      "metadata": {
        "colab": {
          "base_uri": "https://localhost:8080/"
        },
        "id": "vIItWu7-PE5_",
        "outputId": "8bd557d3-dfa5-433b-e9eb-f96074cb5680"
      },
      "execution_count": 32,
      "outputs": [
        {
          "output_type": "stream",
          "name": "stdout",
          "text": [
            "Chi-squared: 2.506274419875746\n",
            "P-value: 0.9266238542884373\n"
          ]
        }
      ]
    },
    {
      "cell_type": "markdown",
      "source": [
        "# t-4"
      ],
      "metadata": {
        "id": "emY6rwrXIUSX"
      }
    },
    {
      "cell_type": "code",
      "source": [
        "import pandas as pd\n",
        "import numpy as np\n",
        "import statsmodels.api as sm\n",
        "from linearmodels.panel import RandomEffects\n",
        "\n",
        "df_final_clean4 = df_final_clean.set_index(['Company', 'Year'])\n",
        "\n",
        "\n",
        "df_final_clean4 = df_final_clean4.dropna(subset=['MDA sentiment t-4', 'average tweet sentiment t-4'])\n",
        "\n",
        "df_final_clean4['Total assets'] = df_final_clean4['Total assets'].replace(0, np.nan)\n",
        "df_final_clean4['Net sales'] = df_final_clean4['Net sales'].replace(0, np.nan)\n",
        "\n",
        "\n",
        "df_final_clean4['ln_Total_assets'] = np.log(df_final_clean4['Total assets'])\n",
        "df_final_clean4['ln_Net sales'] = np.log(df_final_clean4['Net sales'])\n",
        "\n",
        "\n",
        "df_final_clean4['Scaled Total assets'] = df_final_clean4['Total assets'] / 10000\n",
        "df_final_clean4['Net sales'] = df_final_clean4['Net sales'] / 10000\n",
        "df_final_clean4['Scaled Total liability'] = df_final_clean4['Total liability'] / 10000\n",
        "df_final_clean4['Scaled Net sales t-1'] = df_final_clean4['Net sales t-1'] / 10000\n",
        "\n",
        "df_final_clean4['interaction'] = df_final_clean4['MDA sentiment t-4'] * df_final_clean4['average tweet sentiment t-4']\n",
        "\n",
        "X = df_final_clean4[['average tweet sentiment t-4', 'ln_Total_assets', 'MDA sentiment t-4', 'Debt-to-Equity', 'Net sales t-1', 'interaction']]\n",
        "X = sm.add_constant(X)\n",
        "y = df_final_clean4['Net sales']\n",
        "\n",
        "\n",
        "model = RandomEffects(y, X)\n",
        "re_results = model.fit()\n",
        "\n",
        "print(re_results.summary)\n"
      ],
      "metadata": {
        "colab": {
          "base_uri": "https://localhost:8080/"
        },
        "id": "D9z1Ma22IWtG",
        "outputId": "98b6f47f-376a-409e-ff39-60b328b62917"
      },
      "execution_count": 12,
      "outputs": [
        {
          "output_type": "stream",
          "name": "stdout",
          "text": [
            "                        RandomEffects Estimation Summary                        \n",
            "================================================================================\n",
            "Dep. Variable:              Net sales   R-squared:                        0.8146\n",
            "Estimator:              RandomEffects   R-squared (Between):              0.9921\n",
            "No. Observations:                  85   R-squared (Within):               0.1984\n",
            "Date:                Wed, Sep 04 2024   R-squared (Overall):              0.8146\n",
            "Time:                        14:31:09   Log-likelihood                   -119.47\n",
            "Cov. Estimator:            Unadjusted                                           \n",
            "                                        F-statistic:                      57.127\n",
            "Entities:                           5   P-value                           0.0000\n",
            "Avg Obs:                       17.000   Distribution:                    F(6,78)\n",
            "Min Obs:                       17.000                                           \n",
            "Max Obs:                       17.000   F-statistic (robust):             57.127\n",
            "                                        P-value                           0.0000\n",
            "Time periods:                       5   Distribution:                    F(6,78)\n",
            "Avg Obs:                       17.000                                           \n",
            "Min Obs:                       5.0000                                           \n",
            "Max Obs:                       20.000                                           \n",
            "                                                                                \n",
            "                                      Parameter Estimates                                      \n",
            "===============================================================================================\n",
            "                             Parameter  Std. Err.     T-stat    P-value    Lower CI    Upper CI\n",
            "-----------------------------------------------------------------------------------------------\n",
            "const                           3.2064     2.1569     1.4866     0.1412     -1.0876      7.5004\n",
            "average tweet sentiment t-4    -0.2281     5.1806    -0.0440     0.9650     -10.542      10.086\n",
            "ln_Total_assets                -0.1846     0.1006    -1.8349     0.0703     -0.3849      0.0157\n",
            "MDA sentiment t-4              -9.6545     5.8627    -1.6468     0.1036     -21.326      2.0172\n",
            "Debt-to-Equity                  0.0642     0.1023     0.6282     0.5317     -0.1393      0.2678\n",
            "Net sales t-1                8.012e-05  7.322e-06     10.942     0.0000   6.554e-05   9.469e-05\n",
            "interaction                     27.031     16.058     1.6834     0.0963     -4.9373      58.999\n",
            "===============================================================================================\n"
          ]
        }
      ]
    }
  ]
}